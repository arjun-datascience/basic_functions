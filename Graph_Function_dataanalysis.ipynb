{
 "cells": [
  {
   "cell_type": "markdown",
   "metadata": {},
   "source": [
    "### This function can be used for any dataset to plot univariate graphs"
   ]
  },
  {
   "cell_type": "code",
   "execution_count": 1,
   "metadata": {},
   "outputs": [],
   "source": [
    "def graph(dataset,columns=[],directory='/Users/arjunsingh/Desktop/Graph'):\n",
    "    import numpy as np\n",
    "    import pandas as pd\n",
    "    import matplotlib.pyplot as plt\n",
    "    import math\n",
    "    import os\n",
    "    import seaborn as sns\n",
    "    \n",
    "    categorical = [] #list to store all the Categorical columns\n",
    "    numerical = [] #list to store all the  numerical data \n",
    "    \n",
    "    #if columns are not passed in the function by default the function takes all the columns present in the dataset\n",
    "    if(len(columns)==0):\n",
    "        columns = list(dataset.columns)\n",
    "        \n",
    "    #Changing the directory to the the directory passed in the function(Takes default value if no value is passed)  \n",
    "    os.chdir(directory)\n",
    "    \n",
    "    \n",
    "    #Classifying the columns present into Categorical and numerical variables\n",
    "    for col in columns:\n",
    "        if((np.array(dataset[col].unique()).shape[0]>50) and (dataset[col].dtype in ['float64','int64'])):\n",
    "            numerical.append(col)\n",
    "            dataset.hist(column = col,grid='false',figsize =(12,10))#plotting histogram  for the numerical data\n",
    "            plt.savefig(str(col)+'histogram.png') #saving the histogram as an PNG image\n",
    "            plt.close()\n",
    "        \n",
    "            dataset.boxplot(column= col,grid='false',figsize =(12,10)) #plotting boxplot for the numerical data\n",
    "            plt.savefig(str(col)+'boxplot.png')  #saving the boxplot as an PNG image\n",
    "            plt.close()\n",
    "            \n",
    "            \n",
    "        else:\n",
    "            categorical.append(col)\n",
    "            sns.countplot(dataset[col])#plotting barplots for categorical variables\n",
    "            plt.savefig(str(col)+'bargraph.png')  #saving the barplot as an PNG image\n",
    "            plt.close()\n",
    "    \n",
    "        \n",
    "    #Using Heatmap for plotting correlation matrix \n",
    "    corr = dataset.corr()\n",
    "    f , ax = plt.subplots(figsize =(10,12))\n",
    "    cmap = sns.diverging_palette(220,10,as_cmap = True)\n",
    "    sns.heatmap(corr,cmap = 'YlGn',square=True ,ax=ax , annot=True , linewidths= 0.1)\n",
    "    plt.title('Pearson Correlation of features',y =1.05 , size =15)\n",
    "    plt.savefig('correlation.png') #saving the correlation matrix as an PNG image\n",
    "    \n",
    "    #plotting scatter plot of all numerical values\n",
    "    pp = sns.pairplot(dataset[numerical], size=1.8, aspect=1.8,\n",
    "    plot_kws=dict(edgecolor=\"k\", linewidth=0.5),\n",
    "    diag_kind=\"kde\", diag_kws=dict(shade=True))\n",
    "    fig = pp.fig \n",
    "    fig.subplots_adjust(top=0.93, wspace=0.3)\n",
    "    fig.savefig('Numerical_Scatter Plot.png')"
   ]
  },
  {
   "cell_type": "code",
   "execution_count": null,
   "metadata": {},
   "outputs": [],
   "source": []
  }
 ],
 "metadata": {
  "kernelspec": {
   "display_name": "Python 3",
   "language": "python",
   "name": "python3"
  },
  "language_info": {
   "codemirror_mode": {
    "name": "ipython",
    "version": 3
   },
   "file_extension": ".py",
   "mimetype": "text/x-python",
   "name": "python",
   "nbconvert_exporter": "python",
   "pygments_lexer": "ipython3",
   "version": "3.7.3"
  }
 },
 "nbformat": 4,
 "nbformat_minor": 2
}
